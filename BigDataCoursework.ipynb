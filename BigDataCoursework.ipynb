{
 "cells": [
  {
   "cell_type": "code",
   "execution_count": 229,
   "id": "c73eb3a4-ec46-485f-9521-243a598e77e7",
   "metadata": {},
   "outputs": [],
   "source": [
    "import pandas as pd\n",
    "import os\n",
    "import numpy as np\n"
   ]
  },
  {
   "cell_type": "markdown",
   "id": "6f129a36-2af0-415e-ac7c-4efa5d36de6d",
   "metadata": {},
   "source": [
    "## WIDER face"
   ]
  },
  {
   "cell_type": "code",
   "execution_count": 230,
   "id": "3063f782-ed83-4035-981d-9c958a7bc49e",
   "metadata": {},
   "outputs": [
    {
     "name": "stdout",
     "output_type": "stream",
     "text": [
      "dict_keys(['__header__', '__version__', '__globals__', 'blur_label_list', 'event_list', 'expression_label_list', 'face_bbx_list', 'file_list', 'illumination_label_list', 'invalid_label_list', 'occlusion_label_list', 'pose_label_list'])\n"
     ]
    }
   ],
   "source": [
    "mat_file_path = '/Users/Study/Downloads/WIDER/wider_face_split/wider_face_train.mat'\n",
    "mat_train = scipy.io.loadmat(mat_file_path)\n",
    "\n",
    "print(mat_train.keys())"
   ]
  },
  {
   "cell_type": "code",
   "execution_count": 231,
   "id": "01ff7038-ac9d-42d8-8ed2-ad7398ed1d06",
   "metadata": {},
   "outputs": [],
   "source": [
    "file_list = mat_train['file_list']\n",
    "face_list = mat_train['face_bbx_list']"
   ]
  },
  {
   "cell_type": "code",
   "execution_count": 232,
   "id": "779cef65-85de-4b55-9fd9-e6b90196ba69",
   "metadata": {},
   "outputs": [],
   "source": [
    "names_bboxes = {}\n",
    "\n",
    "for index in range(len(file_list)):\n",
    "  counter = -1\n",
    "  for img_obj in file_list[index][0]:\n",
    "    counter += 1\n",
    "    params_list = []\n",
    "    for params in face_list[index][0][counter][0]:\n",
    "      params[0] += params[2]/2\n",
    "      params[1] += params[3]/2\n",
    "      params_list.append(np.array(params))\n",
    "    names_bboxes[img_obj[0][0]] = (params_list)"
   ]
  },
  {
   "cell_type": "code",
   "execution_count": 233,
   "id": "80ab7483-6bf6-4fca-b2c8-51bee313a6e6",
   "metadata": {},
   "outputs": [],
   "source": [
    "names_images_dims = [[], [], []]\n",
    "\n",
    "base_path = '/Users/Study/Downloads/WIDER/WIDER_train_full'\n",
    "\n",
    "for img_name in os.listdir(base_path):\n",
    "  img_path = os.path.join(base_path, img_name)\n",
    "  img = cv2.imread(img_path)\n",
    "  if img is not None:\n",
    "    original_height, original_width = img.shape[:2]\n",
    "    coeff = original_height/original_width\n",
    "    base = 240\n",
    "    img = cv2.cvtColor(img, cv2.COLOR_BGR2RGB)\n",
    "    img = cv2.resize(img, (int(base), int(base*coeff)))\n",
    "    names_images_dims[0].append(img_name[:-4])\n",
    "    names_images_dims[1].append(img/255.0)\n",
    "    names_images_dims[2].append([float(original_width), float(original_height)])"
   ]
  },
  {
   "cell_type": "code",
   "execution_count": 234,
   "id": "28401c0e-a534-42f8-8dcd-ddbee43d6951",
   "metadata": {},
   "outputs": [],
   "source": [
    "images_bboxes_train = {}\n",
    "for name in names_images_dims[0]:\n",
    "  images_bboxes_train[name] = names_images_dims[1][names_images_dims[0].index(name)], names_bboxes[name], names_images_dims[2][names_images_dims[0].index(name)]"
   ]
  },
  {
   "cell_type": "code",
   "execution_count": 235,
   "id": "e84c7b15-acea-4bbe-826a-ebdcdd189328",
   "metadata": {},
   "outputs": [],
   "source": [
    "for key in images_bboxes_train.keys():\n",
    "  counter = -1\n",
    "  for faces in images_bboxes_train[key][1]:\n",
    "    counter+=1\n",
    "    images_bboxes_train[key][1][counter] = images_bboxes_train[key][1][counter].astype(np.float32)\n",
    "    images_bboxes_train[key][1][counter][0] = faces[0]/images_bboxes_train[key][2][0]\n",
    "    images_bboxes_train[key][1][counter][1] = faces[1]/images_bboxes_train[key][2][1]\n",
    "    images_bboxes_train[key][1][counter][2] = faces[2]/images_bboxes_train[key][2][0]\n",
    "    images_bboxes_train[key][1][counter][3] = faces[3]/images_bboxes_train[key][2][1]"
   ]
  },
  {
   "cell_type": "markdown",
   "id": "849fbb4b-7103-450b-a611-429bf218c9eb",
   "metadata": {},
   "source": [
    "## Write formatted"
   ]
  },
  {
   "cell_type": "code",
   "execution_count": 236,
   "id": "213c5f7e-c0d6-45be-bba0-cfe384c7941b",
   "metadata": {},
   "outputs": [],
   "source": [
    "keys = list(images_bboxes_train.keys())"
   ]
  },
  {
   "cell_type": "code",
   "execution_count": 237,
   "id": "50e27baa-b9a9-4c82-bed1-839d2eb91c8a",
   "metadata": {},
   "outputs": [],
   "source": [
    "val_dict = {}\n",
    "for key in range(150):\n",
    "  val_dict[keys[key]] = images_bboxes_train[keys[key]]\n",
    "  images_bboxes_train.pop(keys[key])"
   ]
  },
  {
   "cell_type": "code",
   "execution_count": 238,
   "id": "8095b76a-944f-4ef8-b068-30f42e9c3a56",
   "metadata": {},
   "outputs": [],
   "source": [
    "keys = list(images_bboxes_train.keys())"
   ]
  },
  {
   "cell_type": "code",
   "execution_count": 240,
   "id": "d5089a3e-8e68-4941-8951-82c0d270248d",
   "metadata": {},
   "outputs": [],
   "source": [
    "for key in range(8000):\n",
    "  images_bboxes_train.pop(keys[key])"
   ]
  },
  {
   "cell_type": "code",
   "execution_count": 241,
   "id": "e96519f8-916e-4c87-958f-9b45219b7ed7",
   "metadata": {},
   "outputs": [],
   "source": [
    "imroot = '/Users/Study/Downloads/WIDER/root/images/train/'\n",
    "lbroot = '/Users/Study/Downloads/WIDER/root/labels/train/'\n",
    "\n",
    "for key in images_bboxes_train.keys():\n",
    "  file_path = os.path.join(imroot, f\"{key}.jpg\")\n",
    "  image = np.clip(images_bboxes_train[key][0] * 255.0, 0, 255).astype(np.uint8)\n",
    "  cv2.imwrite(file_path, cv2.cvtColor(image, cv2.COLOR_RGB2BGR))\n",
    "\n",
    "for key, values in images_bboxes_train.items():\n",
    "  file_path = os.path.join(lbroot, f\"{key}.txt\")\n",
    "  with open(file_path, 'w') as file:\n",
    "    for bbox in values[1]:\n",
    "      bbox_str = \"0 \" + \" \".join(map(str, bbox))\n",
    "      file.write(bbox_str + \"\\n\")  "
   ]
  },
  {
   "cell_type": "code",
   "execution_count": 242,
   "id": "b65a0864-edf8-4221-a217-468fb956af50",
   "metadata": {},
   "outputs": [],
   "source": [
    "imroot = '/Users/Study/Downloads/WIDER/root/images/val/'\n",
    "lbroot = '/Users/Study/Downloads/WIDER/root/labels/val/'\n",
    "\n",
    "for key in val_dict.keys():\n",
    "  file_path = os.path.join(imroot, f\"{key}.jpg\")\n",
    "  image = np.clip(val_dict[key][0] * 255.0, 0, 255).astype(np.uint8)\n",
    "  cv2.imwrite(file_path, cv2.cvtColor(image, cv2.COLOR_RGB2BGR))\n",
    "\n",
    "for key, values in val_dict.items():\n",
    "  file_path = os.path.join(lbroot, f\"{key}.txt\")\n",
    "  with open(file_path, 'w') as file:\n",
    "    for bbox in values[1]:\n",
    "      bbox_str = \"0 \" + \" \".join(map(str, bbox))\n",
    "      file.write(bbox_str + \"\\n\") "
   ]
  },
  {
   "cell_type": "markdown",
   "id": "01cafbca-a921-4782-808d-05a8a7f6b02a",
   "metadata": {},
   "source": [
    "## MAFA dataset"
   ]
  },
  {
   "cell_type": "code",
   "execution_count": 243,
   "id": "54e4e4e8-bc24-4a73-90fb-c228c331f6a4",
   "metadata": {},
   "outputs": [
    {
     "name": "stdout",
     "output_type": "stream",
     "text": [
      "dict_keys(['__header__', '__version__', '__globals__', 'label_train'])\n"
     ]
    }
   ],
   "source": [
    "mat_file_path_mafa = '/Users/Study/Downloads/MAFA/MAFA-Label-Train/LabelTrainAll.mat'\n",
    "mafa_mat = scipy.io.loadmat(mat_file_path_mafa)\n",
    "\n",
    "\n",
    "print(mafa_mat.keys())"
   ]
  },
  {
   "cell_type": "code",
   "execution_count": 244,
   "id": "e11c0715-bf18-476d-9813-ff0f6e8918dc",
   "metadata": {},
   "outputs": [],
   "source": [
    "file_list = []\n",
    "\n",
    "for count in range(len(mafa_mat['label_train'][0])):\n",
    "  file_list.append(mafa_mat['label_train'][0][count][1][0][:-4])"
   ]
  },
  {
   "cell_type": "code",
   "execution_count": 245,
   "id": "519dfd57-fc91-4b07-9340-400bfc5d7dc7",
   "metadata": {},
   "outputs": [],
   "source": [
    "face_list = []\n",
    "\n",
    "for count in range(len(mafa_mat['label_train'][0])):\n",
    "  picture = []\n",
    "  for faces in mafa_mat['label_train'][0][count][2]:\n",
    "    face = []\n",
    "    for coords in range(4):\n",
    "      face.append(faces[coords])\n",
    "    picture.append(face)\n",
    "  face_list.append(picture)"
   ]
  },
  {
   "cell_type": "code",
   "execution_count": 246,
   "id": "8d126433-0386-4d89-8d48-6fbc86c548f1",
   "metadata": {},
   "outputs": [],
   "source": [
    "names_bboxes = {}\n",
    "\n",
    "counter = -1\n",
    "for img_obj in file_list:\n",
    "  counter += 1\n",
    "  params_list = []\n",
    "  for params in face_list[counter]:\n",
    "    params_list.append(np.array(params))\n",
    "  names_bboxes[img_obj] = (params_list)"
   ]
  },
  {
   "cell_type": "code",
   "execution_count": 247,
   "id": "afc22882-bef5-436e-9cd1-c5ac8bc383ee",
   "metadata": {},
   "outputs": [
    {
     "name": "stderr",
     "output_type": "stream",
     "text": [
      "libpng warning: iCCP: known incorrect sRGB profile\n",
      "libpng warning: iCCP: known incorrect sRGB profile\n",
      "libpng warning: iCCP: known incorrect sRGB profile\n",
      "libpng warning: iCCP: known incorrect sRGB profile\n",
      "libpng warning: iCCP: cHRM chunk does not match sRGB\n",
      "libpng warning: iCCP: known incorrect sRGB profile\n"
     ]
    }
   ],
   "source": [
    "names_images_dims = [[], [], []]\n",
    "\n",
    "base_path = '/Users/Study/Downloads/MAFA/train-images'\n",
    "\n",
    "for img_name in os.listdir(base_path):\n",
    "  img_path = os.path.join(base_path, img_name)\n",
    "  img = cv2.imread(img_path)\n",
    "  if img is not None:\n",
    "    original_height, original_width = img.shape[:2]\n",
    "    coeff = original_height/original_width\n",
    "    base = 240\n",
    "    img = cv2.cvtColor(img, cv2.COLOR_BGR2RGB)\n",
    "    img = cv2.resize(img, (int(base), int(base*coeff)))\n",
    "    names_images_dims[0].append(img_name[:-4])\n",
    "    names_images_dims[1].append(img/255.0)\n",
    "    names_images_dims[2].append([float(original_width), float(original_height)])"
   ]
  },
  {
   "cell_type": "code",
   "execution_count": 248,
   "id": "b4d156c9-cc4f-4df3-9ee4-512abb97c20b",
   "metadata": {},
   "outputs": [],
   "source": [
    "images_bboxes_train = {}\n",
    "for name in names_images_dims[0]:\n",
    "  images_bboxes_train[name] = names_images_dims[1][names_images_dims[0].index(name)], names_bboxes[name], names_images_dims[2][names_images_dims[0].index(name)]"
   ]
  },
  {
   "cell_type": "code",
   "execution_count": 249,
   "id": "74d99d9a-8ea3-4af0-a3bd-1a051cb73896",
   "metadata": {},
   "outputs": [],
   "source": [
    "for key in images_bboxes_train.keys():\n",
    "  counter = -1\n",
    "  for faces in images_bboxes_train[key][1]:\n",
    "    counter+=1\n",
    "    images_bboxes_train[key][1][counter] = images_bboxes_train[key][1][counter].astype(np.float32)\n",
    "    images_bboxes_train[key][1][counter][0] = faces[0]/images_bboxes_train[key][2][0]\n",
    "    images_bboxes_train[key][1][counter][1] = faces[1]/images_bboxes_train[key][2][1]\n",
    "    images_bboxes_train[key][1][counter][2] = faces[2]/images_bboxes_train[key][2][0]\n",
    "    images_bboxes_train[key][1][counter][3] = faces[3]/images_bboxes_train[key][2][1]"
   ]
  },
  {
   "cell_type": "code",
   "execution_count": 250,
   "id": "22a72777-44cd-4790-9ff2-7fd3850aa702",
   "metadata": {},
   "outputs": [],
   "source": [
    "keys = list(images_bboxes_train.keys())"
   ]
  },
  {
   "cell_type": "code",
   "execution_count": 251,
   "id": "7c825a62-e8ab-4664-982f-0b259245821e",
   "metadata": {},
   "outputs": [],
   "source": [
    "val_dict = {}\n",
    "for key in range(150):\n",
    "  val_dict[keys[key]] = images_bboxes_train[keys[key]]\n",
    "  images_bboxes_train.pop(keys[key])"
   ]
  },
  {
   "cell_type": "code",
   "execution_count": 252,
   "id": "8a774a1f-b78a-4d57-9972-7fafa85b21bb",
   "metadata": {},
   "outputs": [],
   "source": [
    "keys = list(images_bboxes_train.keys())"
   ]
  },
  {
   "cell_type": "code",
   "execution_count": 254,
   "id": "36be0fae-15c8-47ac-8bd5-dd669b9f99cc",
   "metadata": {},
   "outputs": [],
   "source": [
    "for key in range(21000):\n",
    "  images_bboxes_train.pop(keys[key])"
   ]
  },
  {
   "cell_type": "code",
   "execution_count": 255,
   "id": "3cdb28a2-2501-4b37-bd38-95b39c1e7948",
   "metadata": {},
   "outputs": [],
   "source": [
    "imroot = '/Users/Study/Downloads/WIDER/root/images/train/'\n",
    "lbroot = '/Users/Study/Downloads/WIDER/root/labels/train/'\n",
    "\n",
    "for key in images_bboxes_train.keys():\n",
    "  file_path = os.path.join(imroot, f\"{key}.jpg\")\n",
    "  image = np.clip(images_bboxes_train[key][0] * 255.0, 0, 255).astype(np.uint8)\n",
    "  cv2.imwrite(file_path, cv2.cvtColor(image, cv2.COLOR_RGB2BGR))\n",
    "\n",
    "for key, values in images_bboxes_train.items():\n",
    "  file_path = os.path.join(lbroot, f\"{key}.txt\")\n",
    "  with open(file_path, 'w') as file:\n",
    "    for bbox in values[1]:\n",
    "      bbox_str = \"1 \" + \" \".join(map(str, bbox))\n",
    "      file.write(bbox_str + \"\\n\")  "
   ]
  },
  {
   "cell_type": "code",
   "execution_count": 256,
   "id": "b9eef06a-dbab-499d-bbea-405bad345baa",
   "metadata": {},
   "outputs": [],
   "source": [
    "imroot = '/Users/Study/Downloads/WIDER/root/images/val/'\n",
    "lbroot = '/Users/Study/Downloads/WIDER/root/labels/val/'\n",
    "\n",
    "for key in val_dict.keys():\n",
    "  file_path = os.path.join(imroot, f\"{key}.jpg\")\n",
    "  image = np.clip(val_dict[key][0] * 255.0, 0, 255).astype(np.uint8)\n",
    "  cv2.imwrite(file_path, cv2.cvtColor(image, cv2.COLOR_RGB2BGR))\n",
    "\n",
    "for key, values in val_dict.items():\n",
    "  file_path = os.path.join(lbroot, f\"{key}.txt\")\n",
    "  with open(file_path, 'w') as file:\n",
    "    for bbox in values[1]:\n",
    "      bbox_str = \"1 \" + \" \".join(map(str, bbox))\n",
    "      file.write(bbox_str + \"\\n\") "
   ]
  },
  {
   "cell_type": "code",
   "execution_count": null,
   "id": "fff0a53b-c8f0-46e5-9fdf-f7e658959ba4",
   "metadata": {},
   "outputs": [],
   "source": [
    "model = YOLO(\"yolov8n.yaml\")\n",
    "model.to('cuda')"
   ]
  },
  {
   "cell_type": "code",
   "execution_count": null,
   "id": "4873703a-f859-4966-82cc-601dbbae593d",
   "metadata": {},
   "outputs": [],
   "source": [
    "res = model.train(data='faces.yaml', verbose=True, epochs=10, amp=False, batch=12)"
   ]
  }
 ],
 "metadata": {
  "kernelspec": {
   "display_name": "Python 3 (ipykernel)",
   "language": "python",
   "name": "python3"
  },
  "language_info": {
   "codemirror_mode": {
    "name": "ipython",
    "version": 3
   },
   "file_extension": ".py",
   "mimetype": "text/x-python",
   "name": "python",
   "nbconvert_exporter": "python",
   "pygments_lexer": "ipython3",
   "version": "3.11.4"
  }
 },
 "nbformat": 4,
 "nbformat_minor": 5
}
