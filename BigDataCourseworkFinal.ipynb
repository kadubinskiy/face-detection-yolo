{
 "cells": [
  {
   "cell_type": "code",
   "execution_count": null,
   "id": "7908bdef-bd4e-4b2e-b02c-a75be30cc94a",
   "metadata": {},
   "outputs": [],
   "source": [
    "import pandas as pd\n",
    "import os\n",
    "import cv2\n",
    "import numpy as np\n",
    "from sklearn.feature_extraction.text import TfidfVectorizer\n",
    "from sklearn.metrics.pairwise import linear_kernel\n",
    "import scipy.io\n",
    "import tensorflow as tf\n",
    "import matplotlib.pyplot as plt\n",
    "import matplotlib.patches as patches\n",
    "from PIL import Image\n",
    "from tensorflow.keras.models import Sequential, Model\n",
    "from tensorflow.keras.layers import Conv2D, MaxPooling2D, Flatten, Dense, Reshape, Dropout, BatchNormalization, Input, GlobalMaxPooling2D\n",
    "from tensorflow.keras.applications import VGG16\n",
    "from sklearn.preprocessing import StandardScaler\n",
    "from sklearn.svm import SVR\n",
    "from sklearn.model_selection import train_test_split\n",
    "from sklearn.multioutput import MultiOutputRegressor\n",
    "from tensorflow.keras.optimizers import Adam\n",
    "from ultralytics import YOLO"
   ]
  },
  {
   "cell_type": "code",
   "execution_count": null,
   "id": "2b747fb1-cb4d-41ea-bf49-5e2d18e6f5d0",
   "metadata": {},
   "outputs": [],
   "source": [
    "mat_file_path = '/Users/Study/Downloads/WIDER/wider_face_split/wider_face_train.mat'\n",
    "mat_train = scipy.io.loadmat(mat_file_path)\n",
    "\n",
    "print(mat_train.keys())"
   ]
  },
  {
   "cell_type": "code",
   "execution_count": null,
   "id": "a84ef0ea-f2e5-4550-b4ec-05af941c9f65",
   "metadata": {},
   "outputs": [],
   "source": [
    "file_list = mat_train['file_list']\n",
    "face_list = mat_train['face_bbx_list']"
   ]
  },
  {
   "cell_type": "code",
   "execution_count": null,
   "id": "248d20b3-d860-438e-9e59-1ca86dc8c637",
   "metadata": {},
   "outputs": [],
   "source": [
    "names_bboxes = {}\n",
    "\n",
    "for index in range(len(file_list)):\n",
    "  counter = -1\n",
    "  for img_obj in file_list[index][0]:\n",
    "    counter += 1\n",
    "    params_list = []\n",
    "    for params in face_list[index][0][counter][0]:\n",
    "      params[0] += params[2]/2\n",
    "      params[1] += params[3]/2\n",
    "      params_list.append(np.array(params))\n",
    "    names_bboxes[img_obj[0][0]] = (params_list)"
   ]
  },
  {
   "cell_type": "code",
   "execution_count": null,
   "id": "cc9fe0c0-dfd7-43e3-bb6f-5c85928e4969",
   "metadata": {},
   "outputs": [],
   "source": [
    "names_images_dims = [[], [], []]\n",
    "\n",
    "base_path = '/Users/Study/Downloads/WIDER/WIDER_train_full'\n",
    "\n",
    "for img_name in os.listdir(base_path):\n",
    "  img_path = os.path.join(base_path, img_name)\n",
    "  img = cv2.imread(img_path)\n",
    "  if img is not None:\n",
    "    original_height, original_width = img.shape[:2]\n",
    "    coeff = original_height/original_width\n",
    "    base = 240\n",
    "    img = cv2.cvtColor(img, cv2.COLOR_BGR2RGB)\n",
    "    img = cv2.resize(img, (int(base), int(base*coeff)))\n",
    "    names_images_dims[0].append(img_name[:-4])\n",
    "    names_images_dims[1].append(img/255.0)\n",
    "    names_images_dims[2].append([float(original_width), float(original_height)])"
   ]
  },
  {
   "cell_type": "code",
   "execution_count": null,
   "id": "a8588417-6db4-4eea-b147-eafc5421f97a",
   "metadata": {},
   "outputs": [],
   "source": [
    "images_bboxes_train = {}\n",
    "for name in names_images_dims[0]:\n",
    "  images_bboxes_train[name] = names_images_dims[1][names_images_dims[0].index(name)], names_bboxes[name], names_images_dims[2][names_images_dims[0].index(name)]"
   ]
  },
  {
   "cell_type": "code",
   "execution_count": null,
   "id": "b4eb622a-ba0a-4070-9b2b-aa4e67223649",
   "metadata": {},
   "outputs": [],
   "source": [
    "for key in images_bboxes_train.keys():\n",
    "  counter = -1\n",
    "  for faces in images_bboxes_train[key][1]:\n",
    "    counter+=1\n",
    "    images_bboxes_train[key][1][counter] = images_bboxes_train[key][1][counter].astype(np.float32)\n",
    "    images_bboxes_train[key][1][counter][0] = faces[0]/images_bboxes_train[key][2][0]\n",
    "    images_bboxes_train[key][1][counter][1] = faces[1]/images_bboxes_train[key][2][1]\n",
    "    images_bboxes_train[key][1][counter][2] = faces[2]/images_bboxes_train[key][2][0]\n",
    "    images_bboxes_train[key][1][counter][3] = faces[3]/images_bboxes_train[key][2][1]"
   ]
  },
  {
   "cell_type": "code",
   "execution_count": null,
   "id": "0071ce36-abd7-4fb2-b889-a924dd550aaf",
   "metadata": {},
   "outputs": [],
   "source": [
    "keys = list(images_bboxes_train.keys())"
   ]
  },
  {
   "cell_type": "code",
   "execution_count": null,
   "id": "3366204d-c282-476a-aea3-3a7b0a014879",
   "metadata": {},
   "outputs": [],
   "source": [
    "val_dict = {}\n",
    "for key in range(150):\n",
    "  val_dict[keys[key]] = images_bboxes_train[keys[key]]\n",
    "  images_bboxes_train.pop(keys[key])"
   ]
  },
  {
   "cell_type": "code",
   "execution_count": null,
   "id": "5a9f00e5-c067-437c-8db7-9ab69070c2af",
   "metadata": {},
   "outputs": [],
   "source": [
    "keys = list(images_bboxes_train.keys())"
   ]
  },
  {
   "cell_type": "code",
   "execution_count": null,
   "id": "751bf519-e4d6-4faf-bb9c-eaeb2a7c8290",
   "metadata": {},
   "outputs": [],
   "source": [
    "for key in range(10000):\n",
    "  images_bboxes_train.pop(keys[key])"
   ]
  },
  {
   "cell_type": "code",
   "execution_count": null,
   "id": "ca008b3c-67bd-4c61-b40a-22d832034a3b",
   "metadata": {},
   "outputs": [],
   "source": [
    "imroot = '/Users/Study/Downloads/WIDER/root/images/train/'\n",
    "lbroot = '/Users/Study/Downloads/WIDER/root/labels/train/'\n",
    "\n",
    "for key in images_bboxes_train.keys():\n",
    "  file_path = os.path.join(imroot, f\"{key}.jpg\")\n",
    "  image = np.clip(images_bboxes_train[key][0] * 255.0, 0, 255).astype(np.uint8)\n",
    "  cv2.imwrite(file_path, cv2.cvtColor(image, cv2.COLOR_RGB2BGR))\n",
    "\n",
    "for key, values in images_bboxes_train.items():\n",
    "  file_path = os.path.join(lbroot, f\"{key}.txt\")\n",
    "  with open(file_path, 'w') as file:\n",
    "    for bbox in values[1]:\n",
    "      bbox_str = \"0 \" + \" \".join(map(str, bbox))\n",
    "      file.write(bbox_str + \"\\n\")  "
   ]
  },
  {
   "cell_type": "code",
   "execution_count": null,
   "id": "dc2a64c0-4580-4eb8-b691-a5e6f0579466",
   "metadata": {},
   "outputs": [],
   "source": [
    "imroot = '/Users/Study/Downloads/WIDER/root/images/val/'\n",
    "lbroot = '/Users/Study/Downloads/WIDER/root/labels/val/'\n",
    "\n",
    "for key in val_dict.keys():\n",
    "  file_path = os.path.join(imroot, f\"{key}.jpg\")\n",
    "  image = np.clip(val_dict[key][0] * 255.0, 0, 255).astype(np.uint8)\n",
    "  cv2.imwrite(file_path, cv2.cvtColor(image, cv2.COLOR_RGB2BGR))\n",
    "\n",
    "for key, values in val_dict.items():\n",
    "  file_path = os.path.join(lbroot, f\"{key}.txt\")\n",
    "  with open(file_path, 'w') as file:\n",
    "    for bbox in values[1]:\n",
    "      bbox_str = \"0 \" + \" \".join(map(str, bbox))\n",
    "      file.write(bbox_str + \"\\n\") "
   ]
  },
  {
   "cell_type": "code",
   "execution_count": null,
   "id": "95263ff2-da30-4028-b968-8045e117e09e",
   "metadata": {},
   "outputs": [],
   "source": [
    "model = YOLO(\"yolov8n.yaml\")"
   ]
  },
  {
   "cell_type": "code",
   "execution_count": null,
   "id": "d27a0048-4af0-4a3f-abfa-f0d7021dc2bb",
   "metadata": {},
   "outputs": [],
   "source": [
    "res = model.train(data='faces.yaml', verbose=True, epochs=10)"
   ]
  },
  {
   "cell_type": "code",
   "execution_count": null,
   "id": "56161e62-9dbe-4f17-b2be-dde2d6fb5f4e",
   "metadata": {},
   "outputs": [],
   "source": []
  },
  {
   "cell_type": "code",
   "execution_count": null,
   "id": "9d23157f-722f-456d-8489-d2d0a449821c",
   "metadata": {},
   "outputs": [],
   "source": []
  },
  {
   "cell_type": "code",
   "execution_count": null,
   "id": "8c310b32-a0f1-49b0-98b5-fdd00c79d1b8",
   "metadata": {},
   "outputs": [],
   "source": []
  },
  {
   "cell_type": "code",
   "execution_count": null,
   "id": "d3a00931-058a-4010-b72f-b682dd5e1d6c",
   "metadata": {},
   "outputs": [],
   "source": []
  }
 ],
 "metadata": {
  "kernelspec": {
   "display_name": "Python 3 (ipykernel)",
   "language": "python",
   "name": "python3"
  },
  "language_info": {
   "codemirror_mode": {
    "name": "ipython",
    "version": 3
   },
   "file_extension": ".py",
   "mimetype": "text/x-python",
   "name": "python",
   "nbconvert_exporter": "python",
   "pygments_lexer": "ipython3",
   "version": "3.11.4"
  }
 },
 "nbformat": 4,
 "nbformat_minor": 5
}
